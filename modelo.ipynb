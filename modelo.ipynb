{
 "cells": [
  {
   "cell_type": "markdown",
   "metadata": {},
   "source": [
    "# Proyecto 12"
   ]
  },
  {
   "cell_type": "markdown",
   "metadata": {},
   "source": [
    "## Descripción del proyecto"
   ]
  },
  {
   "cell_type": "markdown",
   "metadata": {},
   "source": [
    "El servicio de venta de autos usados Rusty Bargain está desarrollando una aplicación para atraer nuevos clientes. Gracias a esa app, puedes averiguar rápidamente el valor de mercado de tu coche. Tienes acceso al historial: especificaciones técnicas, versiones de equipamiento y precios. Tienes que crear un modelo que determine el valor de mercado.\n",
    "A Rusty Bargain le interesa:\n",
    "- la calidad de la predicción;\n",
    "- la velocidad de la predicción;\n",
    "- el tiempo requerido para el entrenamiento"
   ]
  },
  {
   "cell_type": "markdown",
   "metadata": {},
   "source": [
    "## Preparación de datos"
   ]
  },
  {
   "cell_type": "code",
   "execution_count": 1,
   "metadata": {},
   "outputs": [],
   "source": [
    "# Se importan las librerías necesarias\n",
    "import pandas as pd\n",
    "from sklearn.preprocessing import StandardScaler\n",
    "from sklearn.model_selection import train_test_split\n",
    "from sklearn.metrics import mean_squared_error\n",
    "from sklearn.linear_model import LinearRegression\n",
    "from sklearn.ensemble import RandomForestRegressor\n",
    "from catboost import CatBoostRegressor\n",
    "from lightgbm import LGBMRegressor\n",
    "from xgboost import XGBRegressor"
   ]
  },
  {
   "cell_type": "markdown",
   "metadata": {},
   "source": [
    "Importamos el dataset `/datasets/car_data.csv` y utilizamos los métodos `info()`, `sample()` y `describe()` para conocer un poco sobre los datos que contiene el dataset"
   ]
  },
  {
   "cell_type": "code",
   "execution_count": 2,
   "metadata": {},
   "outputs": [],
   "source": [
    "# Importamos el dataset\n",
    "df = pd.read_csv('/datasets/car_data.csv')"
   ]
  },
  {
   "cell_type": "code",
   "execution_count": 3,
   "metadata": {},
   "outputs": [
    {
     "name": "stdout",
     "output_type": "stream",
     "text": [
      "<class 'pandas.core.frame.DataFrame'>\n",
      "RangeIndex: 354369 entries, 0 to 354368\n",
      "Data columns (total 16 columns):\n",
      " #   Column             Non-Null Count   Dtype \n",
      "---  ------             --------------   ----- \n",
      " 0   DateCrawled        354369 non-null  object\n",
      " 1   Price              354369 non-null  int64 \n",
      " 2   VehicleType        316879 non-null  object\n",
      " 3   RegistrationYear   354369 non-null  int64 \n",
      " 4   Gearbox            334536 non-null  object\n",
      " 5   Power              354369 non-null  int64 \n",
      " 6   Model              334664 non-null  object\n",
      " 7   Mileage            354369 non-null  int64 \n",
      " 8   RegistrationMonth  354369 non-null  int64 \n",
      " 9   FuelType           321474 non-null  object\n",
      " 10  Brand              354369 non-null  object\n",
      " 11  NotRepaired        283215 non-null  object\n",
      " 12  DateCreated        354369 non-null  object\n",
      " 13  NumberOfPictures   354369 non-null  int64 \n",
      " 14  PostalCode         354369 non-null  int64 \n",
      " 15  LastSeen           354369 non-null  object\n",
      "dtypes: int64(7), object(9)\n",
      "memory usage: 43.3+ MB\n",
      "\n"
     ]
    },
    {
     "data": {
      "text/html": [
       "<div>\n",
       "<style scoped>\n",
       "    .dataframe tbody tr th:only-of-type {\n",
       "        vertical-align: middle;\n",
       "    }\n",
       "\n",
       "    .dataframe tbody tr th {\n",
       "        vertical-align: top;\n",
       "    }\n",
       "\n",
       "    .dataframe thead th {\n",
       "        text-align: right;\n",
       "    }\n",
       "</style>\n",
       "<table border=\"1\" class=\"dataframe\">\n",
       "  <thead>\n",
       "    <tr style=\"text-align: right;\">\n",
       "      <th></th>\n",
       "      <th>DateCrawled</th>\n",
       "      <th>Price</th>\n",
       "      <th>VehicleType</th>\n",
       "      <th>RegistrationYear</th>\n",
       "      <th>Gearbox</th>\n",
       "      <th>Power</th>\n",
       "      <th>Model</th>\n",
       "      <th>Mileage</th>\n",
       "      <th>RegistrationMonth</th>\n",
       "      <th>FuelType</th>\n",
       "      <th>Brand</th>\n",
       "      <th>NotRepaired</th>\n",
       "      <th>DateCreated</th>\n",
       "      <th>NumberOfPictures</th>\n",
       "      <th>PostalCode</th>\n",
       "      <th>LastSeen</th>\n",
       "    </tr>\n",
       "  </thead>\n",
       "  <tbody>\n",
       "    <tr>\n",
       "      <th>15008</th>\n",
       "      <td>12/03/2016 01:56</td>\n",
       "      <td>1200</td>\n",
       "      <td>bus</td>\n",
       "      <td>2003</td>\n",
       "      <td>manual</td>\n",
       "      <td>91</td>\n",
       "      <td>other</td>\n",
       "      <td>150000</td>\n",
       "      <td>1</td>\n",
       "      <td>gasoline</td>\n",
       "      <td>mercedes_benz</td>\n",
       "      <td>no</td>\n",
       "      <td>12/03/2016 00:00</td>\n",
       "      <td>0</td>\n",
       "      <td>23758</td>\n",
       "      <td>16/03/2016 05:45</td>\n",
       "    </tr>\n",
       "    <tr>\n",
       "      <th>214977</th>\n",
       "      <td>02/04/2016 12:46</td>\n",
       "      <td>800</td>\n",
       "      <td>sedan</td>\n",
       "      <td>1990</td>\n",
       "      <td>manual</td>\n",
       "      <td>120</td>\n",
       "      <td>other</td>\n",
       "      <td>150000</td>\n",
       "      <td>4</td>\n",
       "      <td>petrol</td>\n",
       "      <td>volvo</td>\n",
       "      <td>no</td>\n",
       "      <td>02/04/2016 00:00</td>\n",
       "      <td>0</td>\n",
       "      <td>81379</td>\n",
       "      <td>06/04/2016 10:45</td>\n",
       "    </tr>\n",
       "    <tr>\n",
       "      <th>246030</th>\n",
       "      <td>18/03/2016 22:49</td>\n",
       "      <td>19200</td>\n",
       "      <td>convertible</td>\n",
       "      <td>2007</td>\n",
       "      <td>manual</td>\n",
       "      <td>272</td>\n",
       "      <td>3er</td>\n",
       "      <td>90000</td>\n",
       "      <td>5</td>\n",
       "      <td>petrol</td>\n",
       "      <td>bmw</td>\n",
       "      <td>no</td>\n",
       "      <td>18/03/2016 00:00</td>\n",
       "      <td>0</td>\n",
       "      <td>73312</td>\n",
       "      <td>06/04/2016 02:16</td>\n",
       "    </tr>\n",
       "    <tr>\n",
       "      <th>253464</th>\n",
       "      <td>26/03/2016 17:43</td>\n",
       "      <td>1750</td>\n",
       "      <td>NaN</td>\n",
       "      <td>2000</td>\n",
       "      <td>NaN</td>\n",
       "      <td>0</td>\n",
       "      <td>a6</td>\n",
       "      <td>150000</td>\n",
       "      <td>0</td>\n",
       "      <td>NaN</td>\n",
       "      <td>audi</td>\n",
       "      <td>NaN</td>\n",
       "      <td>26/03/2016 00:00</td>\n",
       "      <td>0</td>\n",
       "      <td>58540</td>\n",
       "      <td>28/03/2016 06:17</td>\n",
       "    </tr>\n",
       "    <tr>\n",
       "      <th>63515</th>\n",
       "      <td>20/03/2016 11:50</td>\n",
       "      <td>8499</td>\n",
       "      <td>NaN</td>\n",
       "      <td>2017</td>\n",
       "      <td>auto</td>\n",
       "      <td>224</td>\n",
       "      <td>phaeton</td>\n",
       "      <td>150000</td>\n",
       "      <td>4</td>\n",
       "      <td>gasoline</td>\n",
       "      <td>volkswagen</td>\n",
       "      <td>no</td>\n",
       "      <td>20/03/2016 00:00</td>\n",
       "      <td>0</td>\n",
       "      <td>12103</td>\n",
       "      <td>06/04/2016 10:16</td>\n",
       "    </tr>\n",
       "  </tbody>\n",
       "</table>\n",
       "</div>"
      ],
      "text/plain": [
       "             DateCrawled  Price  VehicleType  RegistrationYear Gearbox  Power  \\\n",
       "15008   12/03/2016 01:56   1200          bus              2003  manual     91   \n",
       "214977  02/04/2016 12:46    800        sedan              1990  manual    120   \n",
       "246030  18/03/2016 22:49  19200  convertible              2007  manual    272   \n",
       "253464  26/03/2016 17:43   1750          NaN              2000     NaN      0   \n",
       "63515   20/03/2016 11:50   8499          NaN              2017    auto    224   \n",
       "\n",
       "          Model  Mileage  RegistrationMonth  FuelType          Brand  \\\n",
       "15008     other   150000                  1  gasoline  mercedes_benz   \n",
       "214977    other   150000                  4    petrol          volvo   \n",
       "246030      3er    90000                  5    petrol            bmw   \n",
       "253464       a6   150000                  0       NaN           audi   \n",
       "63515   phaeton   150000                  4  gasoline     volkswagen   \n",
       "\n",
       "       NotRepaired       DateCreated  NumberOfPictures  PostalCode  \\\n",
       "15008           no  12/03/2016 00:00                 0       23758   \n",
       "214977          no  02/04/2016 00:00                 0       81379   \n",
       "246030          no  18/03/2016 00:00                 0       73312   \n",
       "253464         NaN  26/03/2016 00:00                 0       58540   \n",
       "63515           no  20/03/2016 00:00                 0       12103   \n",
       "\n",
       "                LastSeen  \n",
       "15008   16/03/2016 05:45  \n",
       "214977  06/04/2016 10:45  \n",
       "246030  06/04/2016 02:16  \n",
       "253464  28/03/2016 06:17  \n",
       "63515   06/04/2016 10:16  "
      ]
     },
     "metadata": {},
     "output_type": "display_data"
    }
   ],
   "source": [
    "# método info y sample\n",
    "df.info()\n",
    "print()\n",
    "display(df.sample(5))"
   ]
  },
  {
   "cell_type": "code",
   "execution_count": 4,
   "metadata": {},
   "outputs": [
    {
     "name": "stdout",
     "output_type": "stream",
     "text": [
      "               Price  RegistrationYear          Power        Mileage  \\\n",
      "count  354369.000000     354369.000000  354369.000000  354369.000000   \n",
      "mean     4416.656776       2004.234448     110.094337  128211.172535   \n",
      "std      4514.158514         90.227958     189.850405   37905.341530   \n",
      "min         0.000000       1000.000000       0.000000    5000.000000   \n",
      "25%      1050.000000       1999.000000      69.000000  125000.000000   \n",
      "50%      2700.000000       2003.000000     105.000000  150000.000000   \n",
      "75%      6400.000000       2008.000000     143.000000  150000.000000   \n",
      "max     20000.000000       9999.000000   20000.000000  150000.000000   \n",
      "\n",
      "       RegistrationMonth  NumberOfPictures     PostalCode  \n",
      "count      354369.000000          354369.0  354369.000000  \n",
      "mean            5.714645               0.0   50508.689087  \n",
      "std             3.726421               0.0   25783.096248  \n",
      "min             0.000000               0.0    1067.000000  \n",
      "25%             3.000000               0.0   30165.000000  \n",
      "50%             6.000000               0.0   49413.000000  \n",
      "75%             9.000000               0.0   71083.000000  \n",
      "max            12.000000               0.0   99998.000000  \n"
     ]
    }
   ],
   "source": [
    "# Se utiliza el método describe()\n",
    "print(df.describe())"
   ]
  },
  {
   "cell_type": "markdown",
   "metadata": {},
   "source": [
    "Se van a buscar valores duplicados en el dataset"
   ]
  },
  {
   "cell_type": "code",
   "execution_count": 5,
   "metadata": {
    "scrolled": true
   },
   "outputs": [
    {
     "data": {
      "text/plain": [
       "262"
      ]
     },
     "metadata": {},
     "output_type": "display_data"
    }
   ],
   "source": [
    "display(df.duplicated().sum())"
   ]
  },
  {
   "cell_type": "markdown",
   "metadata": {},
   "source": [
    "***Conclusión***\n",
    "\n",
    "* Podemos observar que hay 5 columnas con valores ausentes. Por conveniencia y por tiempo, los valores ausentes serán sustituidos por la palabra \"None\" para indicar que es un valor \"perdido\".\n",
    "* Podemos ver que hay 262 valores duplicados.\n",
    "* Por buena práctica, el tipo de datos de las columnas `DateCrawled\t`, `DateCreated` y `LastSeen` será cambiado por un tipo de datos `date`.\n",
    "* Los nombres de las columnas respetan el estilo CamelCase y por conveniencia será dejado este estilo en las columnas, si los nombres no tuvieran un estilo definido serían cambiados al estilo snake_case."
   ]
  },
  {
   "cell_type": "markdown",
   "metadata": {},
   "source": [
    "**Valores ausentes**\n",
    "\n",
    "Como ya se mencionó, los valores ausentes serán reemplazados por la palabra \"None\", esto se debe a que uno de los modelos que usaremos es CatBoos y esto no resulta un problema para dicha librería ya que dichos valores son categrías separadas."
   ]
  },
  {
   "cell_type": "code",
   "execution_count": 6,
   "metadata": {},
   "outputs": [],
   "source": [
    "# Se cambia los NaN por la palabra \"None\"\n",
    "df = df.fillna('None')"
   ]
  },
  {
   "cell_type": "markdown",
   "metadata": {},
   "source": [
    "**Valores duplicados**\n",
    "\n",
    "Tenemos 262 filas que son completamente iguales. Estas serán removidas para no tener valores repetidos."
   ]
  },
  {
   "cell_type": "code",
   "execution_count": 7,
   "metadata": {},
   "outputs": [],
   "source": [
    "# Se hace uso de drop_duplicates()\n",
    "df = df.drop_duplicates().reset_index(drop=True)"
   ]
  },
  {
   "cell_type": "markdown",
   "metadata": {},
   "source": [
    "**Cambiar el tipo de datos**\n",
    "\n",
    "Para un análisis exploratorio de datos, es buena práctica cambiar el tipo de datos de las columnas `DateCrawled\t`, `DateCreated` y `LastSeen`. Están son columnas que contitnen las fechas de cuando se descargó el perfil de la base de datos, de creación del perfil y de la última vez que el usuario estuvo activo.\n",
    "\n",
    "Sin embargo, para nuestro modelo de predicción no son necesarios estos datos porque lo que define el valor de un carro son características diferentes como el modelo, el tipo de caja de cambio, el kilometraje, etcétera. Por lo que se decide que estas columnas serán eliminadas para el entrenamiento de los medelos."
   ]
  },
  {
   "cell_type": "code",
   "execution_count": 8,
   "metadata": {},
   "outputs": [],
   "source": [
    "# Se borran las colunmnas DateCrawled, DateCreated y LastSeen.\n",
    "df = df.drop(['DateCrawled', 'DateCreated', 'LastSeen'], axis=1)"
   ]
  },
  {
   "cell_type": "code",
   "execution_count": 9,
   "metadata": {},
   "outputs": [
    {
     "name": "stdout",
     "output_type": "stream",
     "text": [
      "<class 'pandas.core.frame.DataFrame'>\n",
      "RangeIndex: 354107 entries, 0 to 354106\n",
      "Data columns (total 13 columns):\n",
      " #   Column             Non-Null Count   Dtype \n",
      "---  ------             --------------   ----- \n",
      " 0   Price              354107 non-null  int64 \n",
      " 1   VehicleType        354107 non-null  object\n",
      " 2   RegistrationYear   354107 non-null  int64 \n",
      " 3   Gearbox            354107 non-null  object\n",
      " 4   Power              354107 non-null  int64 \n",
      " 5   Model              354107 non-null  object\n",
      " 6   Mileage            354107 non-null  int64 \n",
      " 7   RegistrationMonth  354107 non-null  int64 \n",
      " 8   FuelType           354107 non-null  object\n",
      " 9   Brand              354107 non-null  object\n",
      " 10  NotRepaired        354107 non-null  object\n",
      " 11  NumberOfPictures   354107 non-null  int64 \n",
      " 12  PostalCode         354107 non-null  int64 \n",
      "dtypes: int64(7), object(6)\n",
      "memory usage: 35.1+ MB\n"
     ]
    }
   ],
   "source": [
    "# Verificación de los cambios realizados\n",
    "df.info()"
   ]
  },
  {
   "cell_type": "markdown",
   "metadata": {},
   "source": [
    "### Codificación OHE"
   ]
  },
  {
   "cell_type": "markdown",
   "metadata": {},
   "source": [
    "Un modelo que será utilizado será LightGBM, este requiere un tipo de codificación OHE para una tarea de regresión. Además para realizar pruebas de cordura se utilizará el bosque aleatorio de regresión y para esto se ocupará igual la codificación OHE."
   ]
  },
  {
   "cell_type": "code",
   "execution_count": 10,
   "metadata": {},
   "outputs": [
    {
     "name": "stdout",
     "output_type": "stream",
     "text": [
      "(354107, 315)\n"
     ]
    }
   ],
   "source": [
    "# Codificación OHE\n",
    "df_ohe = pd.get_dummies(df, drop_first=True)\n",
    "\n",
    "# comprobar la codificación\n",
    "print(df_ohe.shape)"
   ]
  },
  {
   "cell_type": "markdown",
   "metadata": {},
   "source": [
    "## Entrenamiento del modelo "
   ]
  },
  {
   "cell_type": "markdown",
   "metadata": {},
   "source": [
    "### División del dataset"
   ]
  },
  {
   "cell_type": "markdown",
   "metadata": {},
   "source": [
    "Creación de dos funciones, una función para dividir los dataset en features y target. Para esta tarea nuestro objetivo es el precio del vehículo, es decir, la columna `Price`. \n",
    "\n",
    "Y una segunda función para dividir en el conjunto de entrenamiento y en el conjunto de validación. Para esto se usará un escala de 75:25"
   ]
  },
  {
   "cell_type": "code",
   "execution_count": 11,
   "metadata": {},
   "outputs": [],
   "source": [
    "# Función para dividir el objetivo de las características\n",
    "def features_target(data):\n",
    "    features = data.drop('Price', axis=1)\n",
    "    target = data['Price']\n",
    "    return features, target"
   ]
  },
  {
   "cell_type": "code",
   "execution_count": 12,
   "metadata": {},
   "outputs": [],
   "source": [
    "# Función para dividir en los conjuntos de validación y entrenamiento\n",
    "def train_valid(features, target):\n",
    "    fatures_train, features_valid, target_train, target_valid = train_test_split(features, target, test_size=0.25,\n",
    "                                                                                 random_state=12345)\n",
    "    return fatures_train, features_valid, target_train, target_valid"
   ]
  },
  {
   "cell_type": "markdown",
   "metadata": {},
   "source": [
    "### Regresión Linear (Para prueba de cordura)"
   ]
  },
  {
   "cell_type": "markdown",
   "metadata": {},
   "source": [
    "La regresión linear no es muy buena para el ajuste de hiperparámetros, por lo que podemos usarlo para una prueba de cordura. Esto significa que podemos usar el valor de RMSE como punto de partida, si los modelos siguientes tienen un valor de RMSE mayor al de la regresión lineal, quiere decir que el modelo no fue bueno.\n",
    "\n",
    "En este modelo vamos a utilizar los datos con codificación OHE."
   ]
  },
  {
   "cell_type": "code",
   "execution_count": 13,
   "metadata": {},
   "outputs": [],
   "source": [
    "# Dividimos en features y target\n",
    "features_ohe, target_ohe = features_target(df_ohe)"
   ]
  },
  {
   "cell_type": "code",
   "execution_count": 14,
   "metadata": {},
   "outputs": [],
   "source": [
    "# Set de entrenamiento y validación\n",
    "fatures_train_ohe, features_valid_ohe, target_train_ohe, target_valid_ohe = train_valid(features_ohe, target_ohe)"
   ]
  },
  {
   "cell_type": "markdown",
   "metadata": {},
   "source": [
    "Entrenamos el modelo de regresión"
   ]
  },
  {
   "cell_type": "code",
   "execution_count": 15,
   "metadata": {},
   "outputs": [
    {
     "data": {
      "text/plain": [
       "LinearRegression()"
      ]
     },
     "execution_count": 15,
     "metadata": {},
     "output_type": "execute_result"
    }
   ],
   "source": [
    "model_regresion = LinearRegression()\n",
    "model_regresion.fit(fatures_train_ohe, target_train_ohe)"
   ]
  },
  {
   "cell_type": "code",
   "execution_count": 16,
   "metadata": {},
   "outputs": [],
   "source": [
    "predict_valid_regression = model_regresion.predict(features_valid_ohe)"
   ]
  },
  {
   "cell_type": "code",
   "execution_count": 17,
   "metadata": {},
   "outputs": [
    {
     "name": "stdout",
     "output_type": "stream",
     "text": [
      "3179.689416691931\n"
     ]
    }
   ],
   "source": [
    "rmse_regression = mean_squared_error(target_valid_ohe, predict_valid_regression, squared=False)\n",
    "print(rmse_regression)"
   ]
  },
  {
   "cell_type": "markdown",
   "metadata": {},
   "source": [
    "***Conclusión***\n",
    "\n",
    "Nuestro modelo, en promedio, falló por aproximadamente 3179 euros. Este es un valor de RMSE alto, sin embargo para ser tomado para nuestra prueba de cordura es aceptable."
   ]
  },
  {
   "cell_type": "markdown",
   "metadata": {},
   "source": [
    "### Bosque aleatorio de regresión"
   ]
  },
  {
   "cell_type": "markdown",
   "metadata": {},
   "source": [
    "Para este moedelo utilizaremos el dataset con sodificación OHE.\n",
    "\n",
    "Para este modelo se van a utilizar un ciclo for para modificar los hiperparámetros `n_estimators` y `depth` y ver cuál da como resultado un mejor RMSE."
   ]
  },
  {
   "cell_type": "code",
   "execution_count": 18,
   "metadata": {},
   "outputs": [],
   "source": [
    "# Se establece un contador para saber cuál es el mejor valor de  n_estimators y max_depth\n",
    "best_rmse = 10000\n",
    "best_est = 0\n",
    "best_depth = 0"
   ]
  },
  {
   "cell_type": "code",
   "execution_count": 19,
   "metadata": {},
   "outputs": [
    {
     "name": "stdout",
     "output_type": "stream",
     "text": [
      "El RMSE del mejor modelo, con depth = 10 y n_estimators = 10, es: 2050.4500419873884\n",
      "CPU times: user 4min, sys: 1.87 s, total: 4min 2s\n",
      "Wall time: 4min 2s\n"
     ]
    }
   ],
   "source": [
    "%%time\n",
    "# Modelo en un ciclo for\n",
    "for est in range(10, 11):\n",
    "    for depth in range(1,11):\n",
    "        model_tree = RandomForestRegressor(random_state=12345, n_estimators=est, max_depth=depth)\n",
    "        model_tree.fit(fatures_train_ohe, target_train_ohe)\n",
    "        predict_valid_tree = model_tree.predict(features_valid_ohe)\n",
    "        rmse = mean_squared_error(target_valid_ohe, predict_valid_tree, squared=False)\n",
    "        if rmse < best_rmse:\n",
    "            best_rmse = rmse\n",
    "            best_est = est\n",
    "            best_depth = depth\n",
    "\n",
    "print(f'El RMSE del mejor modelo, con depth = {best_depth} y n_estimators = {best_est}, es: {best_rmse}')"
   ]
  },
  {
   "cell_type": "markdown",
   "metadata": {},
   "source": [
    "***Conclusión***\n",
    "\n",
    "Este modelo dice que, en promedio, las predicciones fallaron por aproximadamente 2050 euros, el cúal es menor a la prueba de cordura. Si alguno de los modelos siguientes tiene un RMSE menor a este, quiere decir que funcionan mejor que este modelo."
   ]
  },
  {
   "cell_type": "markdown",
   "metadata": {},
   "source": [
    "### CatBoostRegressor "
   ]
  },
  {
   "cell_type": "markdown",
   "metadata": {},
   "source": [
    "Utilizaremos la librería CatBoost para entrenar un modelo. Para este no es necesario usar datos con codificación OHE, por lo que se usarán los datos sin esta codificación."
   ]
  },
  {
   "cell_type": "code",
   "execution_count": 20,
   "metadata": {},
   "outputs": [],
   "source": [
    "# División del dataset en features y target usando la función features_target()\n",
    "features, target = features_target(df)"
   ]
  },
  {
   "cell_type": "code",
   "execution_count": 21,
   "metadata": {},
   "outputs": [],
   "source": [
    "# Conjuntos de entrenamiento y validación usando la función train_valid()\n",
    "features_train, features_valid, target_train, target_valid = train_valid(features, target)"
   ]
  },
  {
   "cell_type": "markdown",
   "metadata": {},
   "source": [
    "Para este modelo necesitamos pasar los nombres de las 6 columnas con características categóricas"
   ]
  },
  {
   "cell_type": "code",
   "execution_count": 22,
   "metadata": {},
   "outputs": [],
   "source": [
    "cat_features = ['VehicleType', 'Gearbox', 'Model', 'FuelType', 'Brand', 'NotRepaired']"
   ]
  },
  {
   "cell_type": "markdown",
   "metadata": {},
   "source": [
    "Se entrena el modelo"
   ]
  },
  {
   "cell_type": "code",
   "execution_count": 23,
   "metadata": {},
   "outputs": [
    {
     "name": "stdout",
     "output_type": "stream",
     "text": [
      "0:\tlearn: 3407.6615937\ttotal: 504ms\tremaining: 4m 11s\n",
      "100:\tlearn: 1848.7613885\ttotal: 35.1s\tremaining: 2m 18s\n",
      "200:\tlearn: 1792.8490559\ttotal: 1m 9s\tremaining: 1m 42s\n",
      "300:\tlearn: 1759.8330726\ttotal: 1m 43s\tremaining: 1m 8s\n",
      "400:\tlearn: 1735.8756541\ttotal: 2m 18s\tremaining: 34.2s\n",
      "499:\tlearn: 1716.0910925\ttotal: 2m 52s\tremaining: 0us\n",
      "CPU times: user 2min 53s, sys: 350 ms, total: 2min 54s\n",
      "Wall time: 2min 54s\n"
     ]
    },
    {
     "data": {
      "text/plain": [
       "<catboost.core.CatBoostRegressor at 0x7f13e9708b50>"
      ]
     },
     "execution_count": 23,
     "metadata": {},
     "output_type": "execute_result"
    }
   ],
   "source": [
    "%%time\n",
    "model_cat = CatBoostRegressor(loss_function='RMSE', learning_rate=0.5, depth=4, n_estimators=500, random_state=12345)\n",
    "model_cat.fit(features_train, target_train, cat_features=cat_features, verbose=100)"
   ]
  },
  {
   "cell_type": "code",
   "execution_count": 24,
   "metadata": {},
   "outputs": [],
   "source": [
    "predict_valid_cat = model_cat.predict(features_valid)"
   ]
  },
  {
   "cell_type": "code",
   "execution_count": 25,
   "metadata": {},
   "outputs": [
    {
     "name": "stdout",
     "output_type": "stream",
     "text": [
      "1786.2523826263018\n"
     ]
    }
   ],
   "source": [
    "rmse_cat = mean_squared_error(target_valid, predict_valid_cat, squared=False)\n",
    "print(rmse_cat)"
   ]
  },
  {
   "cell_type": "markdown",
   "metadata": {},
   "source": [
    "***Conclusión***\n",
    "\n",
    "Se probaron diferentes hiperparámetros para el entrenamiento. Por cuestiones de ahorro de tiempo, no se coloca el modelo dentro de ciclos for para ir variando algunos hiperparámetros.\n",
    "\n",
    "Se encotró que con los hiperparámetros `learning_rate=0.5`, `depth=4`, `n_estimators=500` hay un mejor valor de RMSE, el cuál es de 1786.25. Pero el tiempo de entrenamiento es aproximadamente de **3 minutos y medio a 4 minutos y medio** en mi computadora."
   ]
  },
  {
   "cell_type": "markdown",
   "metadata": {},
   "source": [
    "### LightGBM"
   ]
  },
  {
   "cell_type": "markdown",
   "metadata": {},
   "source": [
    "Se va a utilizar la librería LGBMRegressor para entrenar un modelo y obtener un RMSE. De igual manera que con CatBoost, no es neceario usar una codificación OHE.\n",
    "\n",
    "Para esto vamos a utilizar los `features_train`, `features_valid`, `target_train`, `target_valid` que ya obtuvimos en el modelo anterior.\n",
    "\n",
    "Para este modelo vamos a utilizar los índices de las columnas categóricas en lugar del nombre."
   ]
  },
  {
   "cell_type": "code",
   "execution_count": 26,
   "metadata": {},
   "outputs": [
    {
     "name": "stdout",
     "output_type": "stream",
     "text": [
      "[0, 2, 4, 7, 8, 9]\n"
     ]
    }
   ],
   "source": [
    "# Colocamos los índices de las columnas categóricas en una variable\n",
    "categorical_indices = [features_train.columns.get_loc(col) for col in cat_features]\n",
    "print(categorical_indices)"
   ]
  },
  {
   "cell_type": "markdown",
   "metadata": {},
   "source": [
    "**Nota del estudiante**\n",
    "\n",
    "Al pasar las columnas categóricas como tipo `object` el modelo presentaba errores, por lo que se cambió el tipo de datos a `category`, de esta forma el modelo trabajó sin problemas"
   ]
  },
  {
   "cell_type": "code",
   "execution_count": 27,
   "metadata": {},
   "outputs": [],
   "source": [
    "#Convierte el tipo de datos de a categóricos\n",
    "features_train = features_train.astype({'VehicleType': 'category', 'Gearbox': 'category', 'Model': 'category', 'FuelType': 'category', 'Brand': 'category', 'NotRepaired': 'category'})\n",
    "features_valid = features_valid.astype({'VehicleType': 'category', 'Gearbox': 'category', 'Model': 'category', 'FuelType': 'category', 'Brand': 'category', 'NotRepaired': 'category'})"
   ]
  },
  {
   "cell_type": "code",
   "execution_count": 28,
   "metadata": {},
   "outputs": [
    {
     "name": "stderr",
     "output_type": "stream",
     "text": [
      "/opt/conda/lib/python3.9/site-packages/lightgbm/sklearn.py:736: UserWarning: 'verbose' argument is deprecated and will be removed in a future release of LightGBM. Pass 'log_evaluation()' callback via 'callbacks' argument instead.\n",
      "  _log_warning(\"'verbose' argument is deprecated and will be removed in a future release of LightGBM. \"\n",
      "/opt/conda/lib/python3.9/site-packages/lightgbm/basic.py:1487: UserWarning: categorical_feature keyword has been found in `params` and will be ignored.\n",
      "Please use categorical_feature argument of the Dataset constructor to pass this parameter.\n",
      "  _log_warning(f'{key} keyword has been found in `params` and will be ignored.\\n'\n",
      "/opt/conda/lib/python3.9/site-packages/lightgbm/basic.py:1513: UserWarning: categorical_feature in param dict is overridden.\n",
      "  _log_warning(f'{cat_alias} in param dict is overridden.')\n"
     ]
    },
    {
     "name": "stdout",
     "output_type": "stream",
     "text": [
      "CPU times: user 13.1 s, sys: 40.5 ms, total: 13.1 s\n",
      "Wall time: 13.2 s\n"
     ]
    },
    {
     "data": {
      "text/plain": [
       "LGBMRegressor(categorical_feature=[0, 2, 4, 7, 8, 9], learning_rate=0.5,\n",
       "              max_depth=4, n_estimators=500, random_state=12345)"
      ]
     },
     "execution_count": 28,
     "metadata": {},
     "output_type": "execute_result"
    }
   ],
   "source": [
    "%%time\n",
    "# Se entrena el modelo\n",
    "modelo_light = LGBMRegressor(learning_rate=0.5, max_depth=4, n_estimators=500, random_state=12345, categorical_feature= categorical_indices)\n",
    "modelo_light.fit(features_train, target_train, verbose=100)"
   ]
  },
  {
   "cell_type": "code",
   "execution_count": 29,
   "metadata": {},
   "outputs": [],
   "source": [
    "predict_valid_light = modelo_light.predict(features_valid)"
   ]
  },
  {
   "cell_type": "code",
   "execution_count": 30,
   "metadata": {},
   "outputs": [
    {
     "name": "stdout",
     "output_type": "stream",
     "text": [
      "1755.915320892312\n"
     ]
    }
   ],
   "source": [
    "rmse_light = mean_squared_error(target_valid, predict_valid_light, squared=False)\n",
    "print(rmse_light)"
   ]
  },
  {
   "cell_type": "markdown",
   "metadata": {},
   "source": [
    "***Conclusión***\n",
    "\n",
    "Este modelo presentó un mejor valor de RMSE, el cuál es de 1755.91. Además el tiempo para entrenar el modelo es mucho menor."
   ]
  },
  {
   "cell_type": "markdown",
   "metadata": {},
   "source": [
    "### XGBoost "
   ]
  },
  {
   "cell_type": "markdown",
   "metadata": {},
   "source": [
    "Para esta librería es necesario usar los datos con codifiación OHE, ya que el modelo no puede hacer la distinción entre características categóricas y numéricas como los 2 modelos anteriores.\n"
   ]
  },
  {
   "cell_type": "code",
   "execution_count": 31,
   "metadata": {},
   "outputs": [
    {
     "name": "stdout",
     "output_type": "stream",
     "text": [
      "CPU times: user 29min 41s, sys: 1.81 s, total: 29min 43s\n",
      "Wall time: 29min 44s\n"
     ]
    },
    {
     "data": {
      "text/plain": [
       "XGBRegressor(base_score=0.5, booster='gbtree', colsample_bylevel=1,\n",
       "             colsample_bynode=1, colsample_bytree=1, enable_categorical=False,\n",
       "             gamma=0, gpu_id=-1, importance_type=None,\n",
       "             interaction_constraints='', learning_rate=0.5, max_delta_step=0,\n",
       "             max_depth=4, min_child_weight=1, missing=nan,\n",
       "             monotone_constraints='()', n_estimators=500, n_jobs=4,\n",
       "             num_parallel_tree=1, predictor='auto', random_state=12345,\n",
       "             reg_alpha=0, reg_lambda=1, scale_pos_weight=1, subsample=1,\n",
       "             tree_method='exact', validate_parameters=1, verbosity=None)"
      ]
     },
     "execution_count": 31,
     "metadata": {},
     "output_type": "execute_result"
    }
   ],
   "source": [
    "%%time\n",
    "model_xgboost = XGBRegressor(learning_rate=0.5, n_estimators=500, max_depth=4, objective='reg:squarederror', random_state=12345)\n",
    "model_xgboost.fit(fatures_train_ohe, target_train_ohe)"
   ]
  },
  {
   "cell_type": "code",
   "execution_count": 32,
   "metadata": {},
   "outputs": [],
   "source": [
    "predict_valid_xgboost = model_xgboost.predict(features_valid_ohe)"
   ]
  },
  {
   "cell_type": "code",
   "execution_count": 33,
   "metadata": {},
   "outputs": [
    {
     "name": "stdout",
     "output_type": "stream",
     "text": [
      "1755.915320892312\n"
     ]
    }
   ],
   "source": [
    "rmse_xgboost = mean_squared_error(target_valid_ohe, predict_valid_xgboost, squared=False)\n",
    "print(rmse_light)"
   ]
  },
  {
   "cell_type": "markdown",
   "metadata": {},
   "source": [
    "***Conclusion***\n",
    "\n",
    "El modelo obtuvo un RMSE de 1755.91, es igual que el modelo de LightGBM, sin embargo el modelo tardó mucho más en entrenar el modelo"
   ]
  },
  {
   "cell_type": "markdown",
   "metadata": {},
   "source": [
    "## Análisis del modelo"
   ]
  },
  {
   "cell_type": "markdown",
   "metadata": {},
   "source": [
    "Todos los modelos hechos pasan la prueba cordura en cuanto al RMSE. Además a cada modelo se le tomó el tiempo usando el magic command `%%time` para saber cuánto tardan en entrenar, con los hiperparámetros dados.\n",
    "\n",
    "Estos son los resultados:\n",
    "\n",
    "* Bosque aleatorio de regresión:\n",
    "    1. RMSE = 2050.45\n",
    "    2. Tiempo = 4 min\n",
    "* CatBoost:\n",
    "    1. RMSE = 1786.25\n",
    "    2. Tiempo = 2 min 54 seg\n",
    "* LightGBM\n",
    "    1. RMSE = 1755.91\n",
    "    2. Tiempo = 13.2 s\n",
    "* XGBoost\n",
    "    1. RMSE = 1755.91\n",
    "    2. Tiempo = 29 min 44s\n",
    "    \n",
    "Estos es el tiempo que tardo mi computadora en realizar los entrenamientos, pero con una computadora diferente puede variar el tiempo."
   ]
  },
  {
   "cell_type": "markdown",
   "metadata": {},
   "source": [
    "***Conclusión***\n",
    "\n",
    "Los modelos que usan potenciación del gradiente dan mejor resultado, en cuanto al RMSE, al manejar diferentes hiperparámetros.\n",
    "\n",
    "El modelo con la librería **LightGBM** dio el mejor resultado de RMSE y el menor tiempo de ejecución. Por lo que es el mejor modelo para realizar la tarea de predicción del precio de autos."
   ]
  },
  {
   "cell_type": "markdown",
   "metadata": {},
   "source": [
    "# Lista de control"
   ]
  },
  {
   "cell_type": "markdown",
   "metadata": {},
   "source": [
    "Escribe 'x' para verificar. Luego presiona Shift+Enter"
   ]
  },
  {
   "cell_type": "markdown",
   "metadata": {},
   "source": [
    "- [x]  Jupyter Notebook está abierto\n",
    "- [x]  El código no tiene errores- [ ]  Las celdas con el código han sido colocadas en orden de ejecución- [ ]  Los datos han sido descargados y preparados- [ ]  Los modelos han sido entrenados\n",
    "- [x]  Se realizó el análisis de velocidad y calidad de los modelos"
   ]
  }
 ],
 "metadata": {
  "kernelspec": {
   "display_name": "Python 3 (ipykernel)",
   "language": "python",
   "name": "python3"
  },
  "language_info": {
   "codemirror_mode": {
    "name": "ipython",
    "version": 3
   },
   "file_extension": ".py",
   "mimetype": "text/x-python",
   "name": "python",
   "nbconvert_exporter": "python",
   "pygments_lexer": "ipython3",
   "version": "3.12.0"
  },
  "toc": {
   "base_numbering": 1,
   "nav_menu": {},
   "number_sections": true,
   "sideBar": true,
   "skip_h1_title": true,
   "title_cell": "Table of Contents",
   "title_sidebar": "Contents",
   "toc_cell": false,
   "toc_position": {},
   "toc_section_display": true,
   "toc_window_display": false
  }
 },
 "nbformat": 4,
 "nbformat_minor": 2
}
